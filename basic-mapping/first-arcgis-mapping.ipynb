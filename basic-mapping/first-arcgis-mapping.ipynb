{
  "nbformat": 4,
  "nbformat_minor": 0,
  "metadata": {
    "colab": {
      "provenance": [],
      "authorship_tag": "ABX9TyN7tzkT1puk8LKaZcOkAGXH",
      "include_colab_link": true
    },
    "kernelspec": {
      "name": "python3",
      "display_name": "Python 3"
    },
    "language_info": {
      "name": "python"
    }
  },
  "cells": [
    {
      "cell_type": "markdown",
      "metadata": {
        "id": "view-in-github",
        "colab_type": "text"
      },
      "source": [
        "<a href=\"https://colab.research.google.com/github/hollanja/hollanja-hollanja-gis-project-portfolio-geo441b/blob/main/basic-mapping/first-arcgis-mapping.ipynb\" target=\"_parent\"><img src=\"https://colab.research.google.com/assets/colab-badge.svg\" alt=\"Open In Colab\"/></a>"
      ]
    },
    {
      "cell_type": "markdown",
      "source": [
        "# **GEO 441B/541B Week 1 Assignment: Introduction to ArcGIS Pro GUI**"
      ],
      "metadata": {
        "id": "DvWKXGoEwehy"
      }
    },
    {
      "cell_type": "markdown",
      "source": [
        "Created by Jamie Holland\n",
        "\n",
        "08/28/2024\n",
        "\n"
      ],
      "metadata": {
        "id": "8hyiLoXYyKSV"
      }
    },
    {
      "cell_type": "markdown",
      "source": [
        "## **Get ready to start**\n",
        "\n",
        "- Click **File/Save a copy in Drive** to save a copy of this notebook to my own Google Drive"
      ],
      "metadata": {
        "id": "VDI3h4uYzgaf"
      }
    },
    {
      "cell_type": "markdown",
      "source": [
        "## **Create my first map using ArcGIS Pro**\n",
        "\n",
        "1. **Instructions**\n",
        "   - Follow mapping instructions from [this Canvas file](https://miamioh.instructure.com/courses/218994/files/32640807?wrap=1)\n",
        "   - Mapping instructions are adapted from *Lab 1: Introduction to ArcGIS Pro* in [GIS Fundamentals Resources page](https://www.gisfundamentals.org/resources)\n",
        "2. **Share map**\n",
        "  - Upload the PNG file exported from ArcGIS Pro to my Google Drive folder for Week 1 assignment\n",
        "  - Change Share privilege to make this file viewable by anyone with the link\n",
        "  - Copy the shareable link\n",
        "3. **Obtain a shareable link**\n",
        "  - The default link I get for this PNG file cannot be directly used in Notebook to show the picture correctly\n",
        "  - I made some changes to the default shareable link:\n",
        "    - Keep the ``1A2B3C4D5E6F7G8H9I0J`` part because this is the unique file ID for the picture\n",
        "    - Deleted ``/view?usp=sharing`` at the end of the link\n",
        "    - Replaced ``/file/d/`` with ``/uc?export=view&id=``\n",
        "  - Here is an example I referred to:\n",
        "    - Default shareable link\n",
        "```\n",
        "https://drive.google.com/file/d/14ZkDDN6esG_65Qgi7w5er2Np9appP5NZ/view\n",
        "```\n",
        "    - The direct link for view from this example would be\n",
        "```\n",
        "https://drive.google.com/uc?export=view&id=14ZkDDN6esG_65Qgi7w5er2Np9appP5NZ\n",
        "```\n",
        "4. **The Three Maps saved during the Week 1 Assignment in ArcGIS Pro**\n",
        "\n",
        "  ![First map](https://drive.google.com/uc?export=view&id=12eLBWpvv79qhyVI8_f-0pZ9FQ03R5Lnd)\n",
        "\n",
        "  ![Wetland](https://drive.google.com/uc?export=view&id=1m-l_lgCW_esI5MiSEB_19CaV3FmhAdQh)\n",
        "\n",
        "  ![Cloquet](https://drive.google.com/uc?export=view&id=17bAW2jzM25TsR8JAHrVOY4rifpxuSSPL)\n",
        "\n",
        "5. **Numbers the Week #01 Assignment asked us to write down:**\n",
        "\n",
        "  Distance from the gravel pit to the lookout tower: **~1862 Feet**\n",
        "\n",
        "  Area of one survey square bound in red lines: **~2.54 sq. Km**\n",
        "  "
      ],
      "metadata": {
        "id": "b1e2OLEqz0ig"
      }
    },
    {
      "cell_type": "markdown",
      "source": [
        "### **Reflection on my first experience with ArcGIS Pro**\n",
        "\n",
        "- Overall, I spent 3 number of hours, between creating my first map, exploring the basic features of ArcGIS, and learning how to move and save files around in my computer to upload the right maps.\n",
        "- Here is a table showing things that I feel excited and challenging in my first experience working in ArcGIS Pro\n",
        "\n",
        "| Things I'm excited about      | Things challenging for me  |\n",
        "| ----------------------------- | -------------------------- |\n",
        "| The sheer number of options and tools in ArcGIS | Keeping all my files organized |\n",
        "| Working with layers and seeing different map data overlayed | Connecting and accessing the same files between my personal computer and the PCs in the lab |\n",
        "| Making new maps and learning more complex tools | Reading through and understanding the jargon of notebook and GIS |\n",
        "\n",
        "- Here is how I rate my first experience working in ArcGIS Pro\n",
        "  - Data importing* and management\n",
        "    - This was easy enough, as long as I have access to correct data files and extract them properly, it's easy and pretty enjoyable to move around the layers of data. I wonder how these files that we extracted are themselves made and created, though.\n",
        "  - Map creation and annotation\n",
        "    - Creating the map was nice and easy. It may be tricky at first to locate the buttons for elements and text editing and etc., but it is fairly self-explanatory and I love making maps.\n",
        "  - Navigate the software using its GUI\n",
        "    - The GUI is not too difficult to understand. It is set up similarly to other softwares and is laid out logically."
      ],
      "metadata": {
        "id": "oVIp1B3m1w9b"
      }
    },
    {
      "cell_type": "markdown",
      "source": [
        "### **Save and share this notebook**\n",
        "\n",
        "- I made this notebook viewable by anyone with the link\n",
        "\n",
        "- Then I copied this link as my submission to Assignment Week 1!\n",
        "\n",
        "Thank you!"
      ],
      "metadata": {
        "id": "Ane0JcCFCTFL"
      }
    }
  ]
}