{
  "nbformat": 4,
  "nbformat_minor": 0,
  "metadata": {
    "colab": {
      "provenance": [],
      "include_colab_link": true
    },
    "kernelspec": {
      "name": "python3",
      "display_name": "Python 3"
    },
    "language_info": {
      "name": "python"
    }
  },
  "cells": [
    {
      "cell_type": "markdown",
      "metadata": {
        "id": "view-in-github",
        "colab_type": "text"
      },
      "source": [
        "<a href=\"https://colab.research.google.com/github/hollanja/hollanja-hollanja-gis-project-portfolio-geo441b/blob/main/map-coordinate-basics/geodatabases-and-datamodels.ipynb\" target=\"_parent\"><img src=\"https://colab.research.google.com/assets/colab-badge.svg\" alt=\"Open In Colab\"/></a>"
      ]
    },
    {
      "cell_type": "markdown",
      "source": [
        "# **GEO 441B/541B Week 2 Assignment: Data Model and More Mapping**"
      ],
      "metadata": {
        "id": "C0ymCPR5aSHN"
      }
    },
    {
      "cell_type": "markdown",
      "source": [
        "🚀 Created by Jamie Holland\n",
        "\n",
        "9/15/2024"
      ],
      "metadata": {
        "id": "Pt_OREXFPvkr"
      }
    },
    {
      "cell_type": "markdown",
      "source": [
        "## **Get ready to start**\n",
        "\n",
        "- Click **`File/Save a copy in Drive`** to save a copy of this notebook to my own Google Drive"
      ],
      "metadata": {
        "id": "CMQN_pgaHVLO"
      }
    },
    {
      "cell_type": "markdown",
      "source": [
        "## **Adding multiple map frames to one layout**\n"
      ],
      "metadata": {
        "id": "WVs4J1jQbESU"
      }
    },
    {
      "cell_type": "markdown",
      "source": [
        "\n",
        "### **Map with only one map frame**\n",
        "\n",
        "- Below is a map with only one map frame that I created last week\n",
        "\n",
        "```markdown\n",
        "https://drive.google.com/file/d/17bAW2jzM25TsR8JAHrVOY4rifpxuSSPL/view?usp=sharing\n",
        "```\n",
        "\n",
        "- After finishing the two steps below, I was able to create a link can be correctly rendered in Google Colab to show the map\n",
        "  - Deleted **`/view?usp=sharing`** at the end of the link\n",
        "  - Replaced **`/file/d/`** with **`/uc?export=view&id=`**\n",
        "\n",
        "```markdown\n",
        "https://drive.google.com/uc?export=view&id=17bAW2jzM25TsR8JAHrVOY4rifpxuSSPL\n",
        "```\n",
        "\n",
        "- The map can be inserted in Google Colab following the syntax [from here](https://www.markdownguide.org/cheat-sheet/)\n",
        "\n",
        "  ![Cloquet](https://drive.google.com/uc?export=view&id=17bAW2jzM25TsR8JAHrVOY4rifpxuSSPL)"
      ],
      "metadata": {
        "id": "GSCJLg-YkOIx"
      }
    },
    {
      "cell_type": "markdown",
      "source": [
        "###**Map with multiple map frames**\n",
        "\n",
        "- Below is a map with **two map frames** I prepared this week\n",
        "\n",
        "```markdown\n",
        "https://drive.google.com/file/d/19gIBikwzjZb2cYj4SXHNWhVqa8ZOuETp/view?usp=sharing\n",
        "```\n",
        "\n",
        "- After finishing the two steps below, I was able to create a link can be correctly rendered in Google Colab to show the map\n",
        "  - Deleted **`/view?usp=sharing`** at the end of the link\n",
        "  - Replaced **`/file/d/`** with **`/uc?export=view&id=`**\n",
        "\n",
        "```markdown\n",
        "https://drive.google.com/uc?export=view&id=19gIBikwzjZb2cYj4SXHNWhVqa8ZOuETp\n",
        "```\n",
        "\n",
        "- The map can be inserted in Google Colab following the syntax [from here](https://www.markdownguide.org/cheat-sheet/)\n",
        "\n",
        "  ![Twomapframes](https://drive.google.com/uc?export=view&id=19gIBikwzjZb2cYj4SXHNWhVqa8ZOuETp)"
      ],
      "metadata": {
        "id": "wkJqun7umRRk"
      }
    },
    {
      "cell_type": "markdown",
      "source": [
        "##**Create a geodatabase in ArcGIS Pro**\n",
        "\n",
        "- Follow directions in [this file](https://miamioh.instructure.com/courses/218994/files/32772417?wrap=1) to create a new geodatabase and feature dataset using ArcGIS Pro\n",
        "\n",
        "- I can follow the directions in the previous section to obtain a shareable link from Google Drive and turn it into a render-able format for Google Colab\n",
        "\n",
        "  ![screenshot](https://drive.google.com/uc?export=view&id=1qmIzcbRMLYKd8qIq-lKbX0PVr6TxIZBS)\n",
        "\n"
      ],
      "metadata": {
        "id": "Y1LEwJhSmiRU"
      }
    },
    {
      "cell_type": "markdown",
      "source": [
        "## **Reflection on data management function in ArcGIS Pro**\n",
        "\n",
        "- **Write a 100-word paragraph to describe the relationship between**\n",
        "  - **`Geodatabase`**\n",
        "  - **`Feature Dataset`**\n",
        "  - **`Feature Classes`**\n",
        "  - You can refer to **Page 9** of [assignment guide](https://miamioh.instructure.com/files/32771219/download?download_frd=1) or other resources online, such as\n",
        "    - [Fundamentals of geodatabase](https://pro.arcgis.com/en/pro-app/latest/help/data/geodatabases/overview/fundamentals-of-the-geodatabase.htm)\n",
        "    - [Feature datasets in ArcGIS Pro](https://pro.arcgis.com/en/pro-app/latest/help/data/feature-datasets/feature-datasets-in-arcgis-pro.htm)\n",
        "\n",
        "-Geodatabases are databases, equivalent to storage files in a computer's drive, where data layers - later to be imported into maps and used in ArcGIS - can be stored. Geodatabases are independent of project folders and so they and their data can be used across multiple projects.\n",
        "\n",
        "-Feature datasets can be thought of as sub-databases, or separate folders in a file cabinet. If the geodatabase is the file cabinet, feature datasets are folders that subdivide the data and can store a specific set of it separate from other data layers.\n",
        "\n",
        "-Feature classes are at the bottom of the data hierarchy, they are the specific layers of data that describe a geographical feature. They can be stored in geodatabases and organized further in feature datasets.\n"
      ],
      "metadata": {
        "id": "i4RTLellbUh7"
      }
    },
    {
      "cell_type": "markdown",
      "source": [
        "## **Save and share this notebook**\n",
        "\n",
        "- I made this notebook viewable by anyone with the link and submit the link to Canvas as Week 2 assignment"
      ],
      "metadata": {
        "id": "kkgukjDcXsqC"
      }
    },
    {
      "cell_type": "markdown",
      "source": [
        "## **Reference**\n",
        "\n",
        "- [Markdown cheat sheet](https://www.markdownguide.org/cheat-sheet/)\n",
        "- [Insert other references]"
      ],
      "metadata": {
        "id": "fvMbEX89YLeY"
      }
    }
  ]
}